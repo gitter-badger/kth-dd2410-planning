{
 "cells": [
  {
   "cell_type": "markdown",
   "metadata": {},
   "source": [
    "# Description\n",
    "Consider a simple [Dubin's car](http://planning.cs.uiuc.edu/node658.html), modeled by the following system of ordinary differential equations,\n",
    "\\begin{align*} \n",
    "&\\dot{x}      &=~&\\cos{\\theta}                                    &[m/s]\\\\ \n",
    "&\\dot{y}      &=~&\\sin{\\theta}                                    &[m/s] \\\\\n",
    "&\\dot{\\theta} &=~&\\frac{\\tan{\\left (\\frac{\\pi u}{2} \\right )}}{l} &[rad/s]\n",
    "&\\end{align*},\n",
    "where\n",
    "\\begin{align*} \n",
    "&x             &=~&\\text{horizontal position} &[m]   \\\\ \n",
    "&y             &=~&\\text{vertical position}   &[m]   \\\\\n",
    "&\\theta        &=~&\\text{heading angle}       &[rad] \\\\\n",
    "&l             &=~&\\text{car length}          &[m]   \\\\\n",
    "&u \\in [-1, 1] &=~&\\text{control input}\n",
    "\\end{align*}.\n",
    "\n",
    "Suppose that you must drive this car from an initial state $\\mathbf{s}(t_0) = \\mathbf{s}_0$ to a target state $\\mathbf{s}(t_f) = \\mathbf{s}_f$ while avoiding obstacles, by choosing a control $u \\in [-1, 1]$ at every moment in time. Refer to the following diagramme.\n",
    "\n",
    "![](env.png)"
   ]
  },
  {
   "cell_type": "code",
   "execution_count": null,
   "metadata": {},
   "outputs": [],
   "source": [
    "import sys; sys.path.append('../src')\n",
    "import numpy as np, matplotlib.pyplot as plt\n",
    "from mission import Mission\n",
    "%matplotlib inline\n",
    "\n",
    "mis = Mission()"
   ]
  },
  {
   "cell_type": "code",
   "execution_count": null,
   "metadata": {},
   "outputs": [],
   "source": [
    "cf = lambda t, s: np.random.uniform(-0.1, 0.2)\n",
    "mis.simulate(cf)\n",
    "fig, ax = mis.plot_traj()\n",
    "fig.savefig('../doc/control_function_traj.svg', bbox_inches='tight')\n",
    "fig, ax = mis.plot_states()\n",
    "fig.savefig('../doc/control_function_states.svg', bbox_inches='tight')\n",
    "fig.show()"
   ]
  },
  {
   "cell_type": "code",
   "execution_count": null,
   "metadata": {},
   "outputs": [],
   "source": [
    "controls = np.random.uniform(-0.1, 0.2, 50)\n",
    "times    = np.linspace(0, 100, len(controls) + 1)\n",
    "controls"
   ]
  },
  {
   "cell_type": "code",
   "execution_count": null,
   "metadata": {},
   "outputs": [],
   "source": [
    "mis.simulate(controls, times)"
   ]
  },
  {
   "cell_type": "code",
   "execution_count": null,
   "metadata": {},
   "outputs": [],
   "source": [
    "fig, ax = mis.plot_traj()\n",
    "fig.savefig('../doc/control_sequence_traj.svg', bbox_inches='tight')\n",
    "fig, ax = mis.plot_states()\n",
    "fig.savefig('../doc/control_sequence_states.svg', bbox_inches='tight')\n",
    "fig.show()"
   ]
  },
  {
   "cell_type": "code",
   "execution_count": null,
   "metadata": {},
   "outputs": [],
   "source": [
    "mis.simulate(cf)\n"
   ]
  },
  {
   "cell_type": "code",
   "execution_count": null,
   "metadata": {},
   "outputs": [],
   "source": [
    "mis._integrator.dense_output()(times[10])"
   ]
  },
  {
   "cell_type": "code",
   "execution_count": null,
   "metadata": {},
   "outputs": [],
   "source": []
  }
 ],
 "metadata": {
  "kernelspec": {
   "display_name": "Python 3",
   "language": "python",
   "name": "python3"
  },
  "language_info": {
   "codemirror_mode": {
    "name": "ipython",
    "version": 3
   },
   "file_extension": ".py",
   "mimetype": "text/x-python",
   "name": "python",
   "nbconvert_exporter": "python",
   "pygments_lexer": "ipython3",
   "version": "3.6.6"
  }
 },
 "nbformat": 4,
 "nbformat_minor": 2
}
