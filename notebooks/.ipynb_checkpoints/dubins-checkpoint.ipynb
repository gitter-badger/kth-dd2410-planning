{
 "cells": [
  {
   "cell_type": "markdown",
   "metadata": {},
   "source": [
    "# Dubin's car dynamical model"
   ]
  },
  {
   "cell_type": "code",
   "execution_count": 1,
   "metadata": {},
   "outputs": [],
   "source": [
    "from sympy import *\n",
    "import numpy as np\n",
    "init_printing()"
   ]
  },
  {
   "cell_type": "code",
   "execution_count": 2,
   "metadata": {},
   "outputs": [],
   "source": [
    "# state\n",
    "x, y, theta, phi, omega = symbols('x y \\\\theta \\\\phi \\\\omega', real=True)\n",
    "s = Matrix([x, y, theta, phi, omega])\n",
    "\n",
    "# control\n",
    "u = symbols('u', real=True)\n",
    "\n",
    "# parameters\n",
    "l = symbols('l', real=True, positive=True)"
   ]
  },
  {
   "cell_type": "code",
   "execution_count": 11,
   "metadata": {},
   "outputs": [],
   "source": [
    "# state transition\n",
    "ds = Matrix([\n",
    "    cos(theta),\n",
    "    sin(theta),\n",
    "    tan(phi)/l,\n",
    "    omega,\n",
    "    u\n",
    "])\n",
    "\n",
    "# state transition jacobian\n",
    "dds = ds.jacobian(s)"
   ]
  },
  {
   "cell_type": "code",
   "execution_count": 12,
   "metadata": {},
   "outputs": [],
   "source": [
    "# homotopy parameter\n",
    "alpha = symbols('\\\\alpha', real=True, positive=True)\n",
    "\n",
    "# Lagrangian\n",
    "L = alpha*u + (1 - alpha)*u**2"
   ]
  },
  {
   "cell_type": "code",
   "execution_count": 13,
   "metadata": {},
   "outputs": [
    {
     "data": {
      "image/png": "[encoded data removed]",
      "text/latex": [
       "$$\\alpha u + \\lambda_0 \\cos{\\left (\\theta \\right )} + \\lambda_1 \\sin{\\left (\\theta \\right )} + \\frac{\\lambda_2}{l} \\tan{\\left (\\phi \\right )} + \\lambda_3 \\omega + \\lambda_4 u + u^{2} \\left(- \\alpha + 1\\right)$$"
      ],
      "text/plain": [
       "                                                         \\lambda₂⋅tan(\\phi)   \n",
       "\\alpha⋅u + \\lambda₀⋅cos(\\theta) + \\lambda₁⋅sin(\\theta) + ────────────────── + \n",
       "                                                                 l            \n",
       "\n",
       "                                2              \n",
       "\\lambda₃⋅\\omega + \\lambda₄⋅u + u ⋅(-\\alpha + 1)\n",
       "                                               "
      ]
     },
     "execution_count": 13,
     "metadata": {},
     "output_type": "execute_result"
    }
   ],
   "source": [
    "# costate variables\n",
    "cs = Matrix([symbols('\\\\lambda_' + str(var)) for var in s]\n",
    "\n",
    "# hamiltonian\n",
    "#H = cs.dot(ds) + L\n",
    "#H"
   ]
  },
  {
   "cell_type": "code",
   "execution_count": null,
   "metadata": {},
   "outputs": [],
   "source": [
    "# optimise hamiltonian\n",
    "solve(H.diff(u), u)"
   ]
  },
  {
   "cell_type": "code",
   "execution_count": 19,
   "metadata": {},
   "outputs": [
    {
     "name": "stdout",
     "output_type": "stream",
     "text": [
      "([], [(\\lambda_2*tan(\\phi) + l*(\\alpha*u + \\lambda_0*cos(\\theta) + \\lambda_1*sin(\\theta) + \\lambda_3*\\omega + \\lambda_4*u + u**2*(-\\alpha + 1)))/l])\n"
     ]
    }
   ],
   "source": [
    "print(cse(simplify(H)))"
   ]
  },
  {
   "cell_type": "code",
   "execution_count": null,
   "metadata": {},
   "outputs": [],
   "source": []
  }
 ],
 "metadata": {
  "kernelspec": {
   "display_name": "Python 3",
   "language": "python",
   "name": "python3"
  },
  "language_info": {
   "codemirror_mode": {
    "name": "ipython",
    "version": 3
   },
   "file_extension": ".py",
   "mimetype": "text/x-python",
   "name": "python",
   "nbconvert_exporter": "python",
   "pygments_lexer": "ipython3",
   "version": "3.6.5"
  }
 },
 "nbformat": 4,
 "nbformat_minor": 2
}
