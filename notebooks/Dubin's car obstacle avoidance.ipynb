{
 "cells": [
  {
   "cell_type": "markdown",
   "metadata": {},
   "source": [
    "# Description\n",
    "Consider a simple [Dubin's car](http://planning.cs.uiuc.edu/node658.html), modeled by the following system of ordinary differential equations,\n",
    "\\begin{align} \n",
    "&\\dot{x}      &=~&\\cos{\\theta}                                    &[m/s]\\\\ \n",
    "&\\dot{y}      &=~&\\sin{\\theta}                                    &[m/s] \\\\\n",
    "&\\dot{\\theta} &=~&\\frac{\\tan{\\left (\\frac{\\pi u}{2} \\right )}}{l} &[rad/s]\n",
    "&\\end{align},\n",
    "where\n",
    "\\begin{align} \n",
    "&x             &=~&\\text{horizontal position} &[m]   \\\\ \n",
    "&y             &=~&\\text{vertical position}   &[m]   \\\\\n",
    "&\\theta        &=~&\\text{heading angle}       &[rad] \\\\\n",
    "&l             &=~&\\text{car length}          &[m]   \\\\\n",
    "&u \\in [-1, 1] &=~&\\text{control input}\n",
    "\\end{align}.\n",
    "\n",
    "Suppose that you must drive this car from an initial state $\\mathbf{s}(t_0) = \\mathbf{s}_0$ to a target state $\\mathbf{s}(t_f) = \\mathbf{s}_f$ while avoiding obstacles, by choosing a control $u \\in [-1, 1]$ at every moment in time. Refer to the following diagramme.\n",
    "\n",
    "![](env.png)"
   ]
  },
  {
   "cell_type": "code",
   "execution_count": null,
   "metadata": {},
   "outputs": [],
   "source": []
  }
 ],
 "metadata": {
  "kernelspec": {
   "display_name": "Python 3",
   "language": "python",
   "name": "python3"
  },
  "language_info": {
   "codemirror_mode": {
    "name": "ipython",
    "version": 3
   },
   "file_extension": ".py",
   "mimetype": "text/x-python",
   "name": "python",
   "nbconvert_exporter": "python",
   "pygments_lexer": "ipython3",
   "version": "3.6.5"
  }
 },
 "nbformat": 4,
 "nbformat_minor": 2
}
