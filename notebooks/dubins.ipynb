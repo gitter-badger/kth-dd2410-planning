{
 "cells": [
  {
   "cell_type": "markdown",
   "metadata": {},
   "source": [
    "# Dubin's car dynamical model"
   ]
  },
  {
   "cell_type": "code",
   "execution_count": 1,
   "metadata": {},
   "outputs": [],
   "source": [
    "from sympy import *\n",
    "import numpy as np\n",
    "init_printing()"
   ]
  },
  {
   "cell_type": "code",
   "execution_count": 2,
   "metadata": {},
   "outputs": [],
   "source": [
    "# state\n",
    "x, y, theta, phi, omega = symbols('x y \\\\theta \\\\phi \\\\omega', real=True)\n",
    "s = Matrix([x, y, theta, phi, omega])\n",
    "\n",
    "# control\n",
    "u = symbols('u', real=True)\n",
    "\n",
    "# parameters\n",
    "l = symbols('l', real=True, positive=True)"
   ]
  },
  {
   "cell_type": "code",
   "execution_count": 3,
   "metadata": {},
   "outputs": [],
   "source": [
    "# state transition\n",
    "ds = Matrix([\n",
    "    cos(theta),\n",
    "    sin(theta),\n",
    "    tan(phi)/l,\n",
    "    omega,\n",
    "    u\n",
    "])\n",
    "\n",
    "# state transition jacobian\n",
    "dds = ds.jacobian(s)"
   ]
  },
  {
   "cell_type": "code",
   "execution_count": 4,
   "metadata": {},
   "outputs": [],
   "source": [
    "# homotopy parameter\n",
    "alpha = symbols('\\\\alpha', real=True, positive=True)\n",
    "\n",
    "# Lagrangian\n",
    "L = alpha*u + (1 - alpha)*u**2"
   ]
  },
  {
   "cell_type": "code",
   "execution_count": 5,
   "metadata": {},
   "outputs": [],
   "source": [
    "# costate variables\n",
    "cs = Matrix([symbols('\\\\lambda_' + str(var)) for var in s])\n",
    "\n",
    "# fullstate\n",
    "fs = Matrix([s, cs])\n",
    "\n",
    "# hamiltonian\n",
    "H = cs.dot(ds) + L"
   ]
  },
  {
   "cell_type": "code",
   "execution_count": 13,
   "metadata": {},
   "outputs": [],
   "source": [
    "# costate transition\n",
    "dcs = Matrix([-H.diff(var) for var in s])\n",
    "\n",
    "# fullstate transtion\n",
    "dfs = Matrix([ds, dcs])\n",
    "\n",
    "# fullstate transition jacobian\n",
    "ddfs = dfs.jacobian(fs)"
   ]
  },
  {
   "cell_type": "code",
   "execution_count": 20,
   "metadata": {},
   "outputs": [],
   "source": [
    "# solve for optimal control\n",
    "u = solve(H.diff(u), u)[0]"
   ]
  },
  {
   "cell_type": "code",
   "execution_count": 22,
   "metadata": {},
   "outputs": [
    {
     "name": "stdout",
     "output_type": "stream",
     "text": [
      "([], [(\\alpha + \\lambda_\\omega)/(2*(\\alpha - 1))])\n"
     ]
    }
   ],
   "source": [
    "print(cse(simplify(u)))"
   ]
  },
  {
   "cell_type": "code",
   "execution_count": null,
   "metadata": {},
   "outputs": [],
   "source": []
  }
 ],
 "metadata": {
  "kernelspec": {
   "display_name": "Python 3",
   "language": "python",
   "name": "python3"
  },
  "language_info": {
   "codemirror_mode": {
    "name": "ipython",
    "version": 3
   },
   "file_extension": ".py",
   "mimetype": "text/x-python",
   "name": "python",
   "nbconvert_exporter": "python",
   "pygments_lexer": "ipython3",
   "version": "3.6.5"
  }
 },
 "nbformat": 4,
 "nbformat_minor": 2
}
