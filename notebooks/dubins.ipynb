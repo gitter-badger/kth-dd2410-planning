{
 "cells": [
  {
   "cell_type": "markdown",
   "metadata": {},
   "source": [
    "# Dubin's car dynamical model"
   ]
  },
  {
   "cell_type": "code",
   "execution_count": 20,
   "metadata": {},
   "outputs": [],
   "source": [
    "from sympy import *\n",
    "import numpy as np\n",
    "init_printing()"
   ]
  },
  {
   "cell_type": "code",
   "execution_count": 12,
   "metadata": {},
   "outputs": [],
   "source": [
    "# state\n",
    "x, y, theta = symbols('x y \\\\theta', real=True)\n",
    "s = Matrix([x, y, theta])\n",
    "\n",
    "# control\n",
    "u = symbols('u', real=True)\n",
    "\n",
    "# parameters\n",
    "l = symbols('l', real=True, positive=True)"
   ]
  },
  {
   "cell_type": "code",
   "execution_count": 13,
   "metadata": {},
   "outputs": [],
   "source": [
    "# state transition\n",
    "ds = Matrix([\n",
    "    cos(theta),\n",
    "    sin(theta),\n",
    "    tan(u*(pi/2))/l,\n",
    "])\n",
    "\n",
    "# state transition jacobian\n",
    "dds = ds.jacobian(s)"
   ]
  },
  {
   "cell_type": "code",
   "execution_count": 14,
   "metadata": {},
   "outputs": [],
   "source": [
    "# homotopy parameter\n",
    "alpha = symbols('\\\\alpha', real=True, positive=True)\n",
    "\n",
    "# Lagrangian\n",
    "L = alpha*u + (1 - alpha)*u**2"
   ]
  },
  {
   "cell_type": "code",
   "execution_count": 15,
   "metadata": {},
   "outputs": [],
   "source": [
    "# costate variables\n",
    "cs = Matrix([symbols('\\\\lambda_' + str(var)) for var in s])\n",
    "\n",
    "# fullstate\n",
    "fs = Matrix([s, cs])\n",
    "\n",
    "# hamiltonian\n",
    "H = cs.dot(ds) + L"
   ]
  },
  {
   "cell_type": "code",
   "execution_count": 16,
   "metadata": {},
   "outputs": [],
   "source": [
    "# costate transition\n",
    "dcs = Matrix([-H.diff(var) for var in s])\n",
    "\n",
    "# fullstate transtion\n",
    "dfs = Matrix([ds, dcs])\n",
    "\n",
    "# fullstate transition jacobian\n",
    "ddfs = dfs.jacobian(fs)"
   ]
  },
  {
   "cell_type": "code",
   "execution_count": 18,
   "metadata": {},
   "outputs": [
    {
     "name": "stdout",
     "output_type": "stream",
     "text": [
      "\\left[\\begin{matrix}\\cos{\\left (\\theta \\right )}\\\\\\sin{\\left (\\theta \\right )}\\\\\\tan{\\left (\\frac{\\pi u}{2} \\right )}\\end{matrix}\\right]\n"
     ]
    }
   ],
   "source": [
    "print(latex(simplify(ds.subs(l, 1))))"
   ]
  },
  {
   "cell_type": "code",
   "execution_count": 21,
   "metadata": {},
   "outputs": [],
   "source": [
    "import matplotlib.pyplot as plt"
   ]
  },
  {
   "cell_type": "code",
   "execution_count": 23,
   "metadata": {},
   "outputs": [],
   "source": [
    "fig, ax = plt.subplots(1)"
   ]
  },
  {
   "cell_type": "code",
   "execution_count": 27,
   "metadata": {},
   "outputs": [
    {
     "data": {
      "text/plain": [
       "matplotlib.axes._subplots.AxesSubplot"
      ]
     },
     "execution_count": 27,
     "metadata": {},
     "output_type": "execute_result"
    }
   ],
   "source": [
    "type(ax)"
   ]
  },
  {
   "cell_type": "code",
   "execution_count": 26,
   "metadata": {},
   "outputs": [
    {
     "data": {
      "text/plain": [
       "matplotlib.figure.Figure"
      ]
     },
     "execution_count": 26,
     "metadata": {},
     "output_type": "execute_result"
    }
   ],
   "source": [
    "type(fig)"
   ]
  },
  {
   "cell_type": "code",
   "execution_count": null,
   "metadata": {},
   "outputs": [],
   "source": []
  }
 ],
 "metadata": {
  "kernelspec": {
   "display_name": "Python 3",
   "language": "python",
   "name": "python3"
  },
  "language_info": {
   "codemirror_mode": {
    "name": "ipython",
    "version": 3
   },
   "file_extension": ".py",
   "mimetype": "text/x-python",
   "name": "python",
   "nbconvert_exporter": "python",
   "pygments_lexer": "ipython3",
   "version": "3.6.6"
  }
 },
 "nbformat": 4,
 "nbformat_minor": 2
}
